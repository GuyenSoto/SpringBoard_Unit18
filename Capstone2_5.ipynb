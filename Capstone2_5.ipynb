{
 "cells": [
  {
   "cell_type": "markdown",
   "metadata": {},
   "source": [
    "# 5 Modeling<a id='5_Modeling'></a>"
   ]
  },
  {
   "cell_type": "markdown",
   "metadata": {},
   "source": [
    "## 5.1 Contents<a id='5.1_Contents'></a>\n",
    "* [5 Modeling](#5_Modeling)\n",
    "  * [5.1 Contents](#5.1_Contents)\n",
    "  * [5.2 Introduction](#5.2_Introduction)\n",
    "  * [5.3 Imports](#5.3_Imports)\n",
    "  * [5.4 Load Model](#5.4_Load_Model)\n",
    "  * [5.5 Load Data](#5.5_Load_Data)\n",
    "  * [5.6 Refit Model On All Available Data (excluding FL State)](#5.6_Refit_Model_On_All_Available_Data_(excluding_Fl_State))\n",
    "  * [5.7 Calculate Expected Fl Average Salary From The Model](#5.7_Calculate_Expected_Big_Mountain_Ticket_Price_From_The_Model)\n",
    "  * [5.8 Florida Jobs In  Market Context](#5.8_Big_Mountain_Resort_In_Market_Context)\n",
    "  * [5.8.1 Average Salary](#5.8.1_Ticket_price)\n",
    "  * [5.8.2 Founded Years of a Company](#5.8.2_Vertical_drop)\n",
    "  * [5.8.3 Rating of Company](#5.8.3_Snow_making_area)\n",
    "  * [5.8.4 Highest Revenue posibble for a Company](#5.8.4_Total_number_of_chairs)\n",
    "  * [5.8.5 Maximun possible Company Size](#5.8.5_Fast_quads)\n",
    "  * [5.8.6 Python knowledge](#5.8.6_Runs)\n",
    "  * [5.8.7 DataBase knowledge](#5.8.7_Longest_run)\n",
    "  * [5.8.8 SQL knowledge](#5.8.8_Trams)\n",
    "  * [5.8.9 Math knowledge](#5.8.9_Skiable_terrain_area)\n",
    "  * [5.9 Modeling scenarios](#5.9_Modeling_scenarios)\n",
    "    * [5.9.1 Scenario 1](#5.9.1_Scenario_1)\n",
    "    * [5.9.2 Scenario 2](#5.9.2_Scenario_2)\n",
    "    * [5.9.3 Scenario 3](#5.9.3_Scenario_3)\n",
    "    * [5.9.4 Scenario 4](#5.9.4_Scenario_4)\n",
    "  * [5.10 Summary](#5.10_Summary)\n",
    "  * [5.11 Further work](#5.11_Further_work)\n"
   ]
  },
  {
   "cell_type": "markdown",
   "metadata": {},
   "source": [
    "## 5.2 Introduction<a id='5.2_Introduction'></a>"
   ]
  },
  {
   "cell_type": "markdown",
   "metadata": {},
   "source": [
    "In this notebook, we now take our model for Ave_Salary it to gain some insights into .\n",
    "\n",
    "We can now use our model to gain insight into what  change under various scenarios."
   ]
  },
  {
   "cell_type": "markdown",
   "metadata": {},
   "source": [
    "## 5.3 Imports<a id='5.3_Imports'></a>"
   ]
  },
  {
   "cell_type": "code",
   "execution_count": 442,
   "metadata": {},
   "outputs": [],
   "source": [
    "import pandas as pd\n",
    "import numpy as np\n",
    "import os\n",
    "import pickle\n",
    "import matplotlib.pyplot as plt\n",
    "import seaborn as sns\n",
    "from sklearn import __version__ as sklearn_version\n",
    "from sklearn.model_selection import cross_validate"
   ]
  },
  {
   "cell_type": "markdown",
   "metadata": {},
   "source": [
    "## 5.4 Load Model<a id='5.4_Load_Model'></a>"
   ]
  },
  {
   "cell_type": "code",
   "execution_count": 443,
   "metadata": {},
   "outputs": [
    {
     "name": "stdout",
     "output_type": "stream",
     "text": [
      "Expected model version doesn't match version loaded\n"
     ]
    }
   ],
   "source": [
    "# This isn't exactly production-grade, but a quick check for development\n",
    "# These checks can save some head-scratching in development when moving from\n",
    "# one python environment to another, for example\n",
    "expected_model_version = '1.0'\n",
    "model_path = './models/DS_model.pkl'\n",
    "if os.path.exists(model_path):\n",
    "    with open(model_path, 'rb') as f:\n",
    "        model = pickle.load(f)\n",
    "    if model.version != expected_model_version:\n",
    "        print(\"Expected model version doesn't match version loaded\")\n",
    "    if model.sklearn_version != sklearn_version:\n",
    "        print(\"Warning: model created under different sklearn version\")\n",
    "else:\n",
    "    print(\"Expected model not found\")"
   ]
  },
  {
   "cell_type": "markdown",
   "metadata": {},
   "source": [
    "## 5.5 Load Data<a id='5.5_Load_Data'></a>"
   ]
  },
  {
   "cell_type": "code",
   "execution_count": 444,
   "metadata": {},
   "outputs": [],
   "source": [
    "job_data = pd.read_csv('numer_data_step3_features.csv')"
   ]
  },
  {
   "cell_type": "code",
   "execution_count": 445,
   "metadata": {},
   "outputs": [],
   "source": [
    "job_dataS=job_data.set_index('State').groupby('State').mean()"
   ]
  },
  {
   "cell_type": "code",
   "execution_count": 446,
   "metadata": {},
   "outputs": [
    {
     "name": "stdout",
     "output_type": "stream",
     "text": [
      "                             Rating  Ave_Salary  Founded_Years  \\\n",
      "State                                                            \n",
      "AL                         4.180000   67.150000      41.100000   \n",
      "AZ                         3.336156   96.998371      24.179153   \n",
      "Brentford, United Kingdom  3.900000  132.750000      21.000000   \n",
      "CA                         3.552790  133.636719      21.042411   \n",
      "CO                         3.790909   75.000000      60.818182   \n",
      "CT                         3.385714   85.142857      26.428571   \n",
      "DC                         3.260000  104.175000      18.350000   \n",
      "DE                         3.543750   91.343750      48.312500   \n",
      "FL                         3.461702   79.962766      26.127660   \n",
      "GA                         3.666667   80.666667      17.833333   \n",
      "HI                         3.300000   98.500000       0.000000   \n",
      "IA                         4.100000   78.900000      26.200000   \n",
      "ID                         3.933333   74.000000      32.333333   \n",
      "IL                         3.370157   88.806283      30.136126   \n",
      "IN                         4.063636   92.045455      41.090909   \n",
      "KS                         3.700000   87.000000      48.000000   \n",
      "KY                         3.500000   97.000000      42.666667   \n",
      "LA                         3.575000   51.000000      28.250000   \n",
      "MA                         3.590756  106.336134      23.420168   \n",
      "MD                         3.614634   97.353659      52.243902   \n",
      "MI                         3.985714  100.428571      29.142857   \n",
      "MN                         3.900000  100.875000      25.250000   \n",
      "MO                         4.130000   84.400000      24.400000   \n",
      "Maryland                   3.000000   90.500000       0.000000   \n",
      "NC                         3.400000   97.875000      25.916667   \n",
      "NE                         3.400000   53.100000      43.800000   \n",
      "NJ                         3.380645  102.661290      26.774194   \n",
      "NM                         3.600000   74.333333      30.000000   \n",
      "NY                         3.596512   99.215116      25.976744   \n",
      "OH                         3.613918   93.618557      27.927835   \n",
      "OR                         3.375000   92.125000      60.500000   \n",
      "Ohio                       3.600000  131.000000      96.000000   \n",
      "PA                         3.400000   94.542818      20.320442   \n",
      "RI                         3.400000  100.000000      82.000000   \n",
      "Remote                     3.366667   90.833333      13.333333   \n",
      "SC                         4.400000   60.500000      92.000000   \n",
      "SD                         0.000000   81.500000       0.000000   \n",
      "Stevenage, United Kingdom  3.900000   66.500000      21.000000   \n",
      "TN                         3.381250   89.781250      40.875000   \n",
      "TX                         3.325583   95.161353      27.580093   \n",
      "UT                         4.240000   94.150000       6.800000   \n",
      "United States              3.525000   95.000000      11.750000   \n",
      "VA                         3.801493   96.888060      26.522388   \n",
      "WA                         3.800000   95.543478      48.086957   \n",
      "WI                         3.410000   73.300000      52.600000   \n",
      "\n",
      "                           Max_Company_Size  Max_USD_Revenue  \\\n",
      "State                                                          \n",
      "AL                              3230.000000     2.120000e+09   \n",
      "AZ                              3728.273616     2.077026e+09   \n",
      "Brentford, United Kingdom      10000.000000     1.000000e+10   \n",
      "CA                              4035.379464     2.631595e+09   \n",
      "CO                              2504.545455     1.136364e+09   \n",
      "CT                              7314.285714     7.143000e+09   \n",
      "DC                              3382.750000     1.802800e+09   \n",
      "DE                              4806.312500     2.731875e+09   \n",
      "FL                              2814.468085     1.281649e+09   \n",
      "GA                              4233.333333     3.500000e+08   \n",
      "HI                              1000.000000     5.000000e+08   \n",
      "IA                              1600.000000     8.000000e+08   \n",
      "ID                              3833.333333     3.400000e+09   \n",
      "IL                              3986.706806     2.097618e+09   \n",
      "IN                              2490.909091     1.936364e+09   \n",
      "KS                              1000.000000     1.000000e+09   \n",
      "KY                              6733.333333     6.675000e+09   \n",
      "LA                              3050.000000     1.000000e+00   \n",
      "MA                              5465.605042     4.781471e+09   \n",
      "MD                              3969.512195     3.017195e+09   \n",
      "MI                              3057.142857     1.717857e+09   \n",
      "MN                              1550.000000     1.387500e+09   \n",
      "MO                              1445.100000     4.135000e+08   \n",
      "Maryland                         200.000000     5.000000e+07   \n",
      "NC                              7333.375000     5.770833e+09   \n",
      "NE                              7000.000000     4.200000e+09   \n",
      "NJ                              3904.870968     2.102742e+09   \n",
      "NM                              7000.000000     1.366667e+09   \n",
      "NY                              4416.290698     2.585535e+09   \n",
      "OH                              5124.783505     3.062603e+09   \n",
      "OR                              6250.000000     7.500000e+08   \n",
      "Ohio                           10000.000000     1.000000e+10   \n",
      "PA                              4170.770718     2.176050e+09   \n",
      "RI                              1000.000000     1.000000e+00   \n",
      "Remote                          3350.000000     1.000333e+09   \n",
      "SC                               500.000000     5.000000e+07   \n",
      "SD                                 1.000000     1.000000e+06   \n",
      "Stevenage, United Kingdom      10000.000000     1.000000e+10   \n",
      "TN                              7218.750000     4.312500e+09   \n",
      "TX                              3966.374028     2.290282e+09   \n",
      "UT                              6560.000000     1.015000e+08   \n",
      "United States                   1437.500000     2.750000e+07   \n",
      "VA                              3952.238806     1.575104e+09   \n",
      "WA                              4713.043478     1.417826e+09   \n",
      "WI                              2440.000000     1.120000e+09   \n",
      "\n",
      "                           Python_knowledge  MatLab_knowledge  \\\n",
      "State                                                           \n",
      "AL                                 0.400000          0.600000   \n",
      "AZ                                 0.475570          0.026059   \n",
      "Brentford, United Kingdom          0.500000          0.000000   \n",
      "CA                                 0.546875          0.069196   \n",
      "CO                                 0.636364          0.090909   \n",
      "CT                                 0.142857          0.000000   \n",
      "DC                                 0.550000          0.000000   \n",
      "DE                                 0.500000          0.125000   \n",
      "FL                                 0.340426          0.031915   \n",
      "GA                                 0.500000          0.000000   \n",
      "HI                                 1.000000          0.000000   \n",
      "IA                                 0.400000          0.000000   \n",
      "ID                                 0.666667          0.000000   \n",
      "IL                                 0.586387          0.020942   \n",
      "IN                                 0.727273          0.000000   \n",
      "KS                                 1.000000          0.000000   \n",
      "KY                                 0.333333          0.000000   \n",
      "LA                                 0.000000          0.000000   \n",
      "MA                                 0.403361          0.142857   \n",
      "MD                                 0.341463          0.073171   \n",
      "MI                                 0.428571          0.000000   \n",
      "MN                                 0.500000          0.000000   \n",
      "MO                                 0.300000          0.000000   \n",
      "Maryland                           1.000000          0.000000   \n",
      "NC                                 0.375000          0.000000   \n",
      "NE                                 0.200000          0.200000   \n",
      "NJ                                 0.483871          0.032258   \n",
      "NM                                 1.000000          1.000000   \n",
      "NY                                 0.651163          0.069767   \n",
      "OH                                 0.443299          0.046392   \n",
      "OR                                 0.750000          0.000000   \n",
      "Ohio                               1.000000          1.000000   \n",
      "PA                                 0.419890          0.041436   \n",
      "RI                                 0.000000          0.000000   \n",
      "Remote                             1.000000          0.333333   \n",
      "SC                                 0.000000          0.000000   \n",
      "SD                                 1.000000          0.000000   \n",
      "Stevenage, United Kingdom          0.500000          0.000000   \n",
      "TN                                 0.687500          0.062500   \n",
      "TX                                 0.497667          0.029549   \n",
      "UT                                 0.400000          0.000000   \n",
      "United States                      0.500000          0.000000   \n",
      "VA                                 0.731343          0.089552   \n",
      "WA                                 0.434783          0.000000   \n",
      "WI                                 0.200000          0.000000   \n",
      "\n",
      "                           PowerBI_knowledge  SQL_knowledge  ETL_knowledge  \\\n",
      "State                                                                        \n",
      "AL                                  0.000000       0.200000       0.000000   \n",
      "AZ                                  0.100977       0.563518       0.188925   \n",
      "Brentford, United Kingdom           0.500000       0.000000       0.000000   \n",
      "CA                                  0.036830       0.454241       0.121652   \n",
      "CO                                  0.000000       0.545455       0.272727   \n",
      "CT                                  0.000000       0.285714       0.000000   \n",
      "DC                                  0.100000       0.400000       0.200000   \n",
      "DE                                  0.000000       0.500000       0.125000   \n",
      "FL                                  0.117021       0.638298       0.234043   \n",
      "GA                                  0.000000       0.500000       0.333333   \n",
      "HI                                  0.000000       1.000000       0.000000   \n",
      "IA                                  0.000000       1.000000       0.400000   \n",
      "ID                                  0.000000       1.000000       0.000000   \n",
      "IL                                  0.109948       0.534031       0.162304   \n",
      "IN                                  0.181818       0.545455       0.454545   \n",
      "KS                                  0.000000       1.000000       0.000000   \n",
      "KY                                  0.000000       0.333333       0.000000   \n",
      "LA                                  0.000000       0.750000       0.000000   \n",
      "MA                                  0.075630       0.336134       0.092437   \n",
      "MD                                  0.024390       0.146341       0.024390   \n",
      "MI                                  0.142857       0.714286       0.142857   \n",
      "MN                                  0.000000       0.750000       0.000000   \n",
      "MO                                  0.000000       0.900000       0.300000   \n",
      "Maryland                            0.000000       1.000000       0.000000   \n",
      "NC                                  0.041667       0.250000       0.208333   \n",
      "NE                                  0.200000       0.200000       0.000000   \n",
      "NJ                                  0.193548       0.645161       0.225806   \n",
      "NM                                  0.333333       0.000000       0.000000   \n",
      "NY                                  0.046512       0.593023       0.104651   \n",
      "OH                                  0.072165       0.402062       0.134021   \n",
      "OR                                  0.000000       1.000000       0.000000   \n",
      "Ohio                                0.000000       1.000000       0.000000   \n",
      "PA                                  0.069061       0.425414       0.093923   \n",
      "RI                                  0.000000       1.000000       0.000000   \n",
      "Remote                              0.000000       0.666667       0.000000   \n",
      "SC                                  0.000000       0.000000       0.000000   \n",
      "SD                                  0.000000       0.000000       0.000000   \n",
      "Stevenage, United Kingdom           0.000000       0.500000       0.000000   \n",
      "TN                                  0.062500       0.687500       0.562500   \n",
      "TX                                  0.087092       0.541213       0.205288   \n",
      "UT                                  0.000000       0.400000       0.500000   \n",
      "United States                       0.250000       0.250000       0.000000   \n",
      "VA                                  0.104478       0.507463       0.179104   \n",
      "WA                                  0.043478       0.260870       0.043478   \n",
      "WI                                  0.200000       0.300000       0.300000   \n",
      "\n",
      "                           ...  state_total_Python_x  state_total_Sql_x  \\\n",
      "State                      ...                                            \n",
      "AL                         ...                   4.0                2.0   \n",
      "AZ                         ...                 146.0              173.0   \n",
      "Brentford, United Kingdom  ...                   1.0                0.0   \n",
      "CA                         ...                 490.0              407.0   \n",
      "CO                         ...                   7.0                6.0   \n",
      "CT                         ...                   1.0                2.0   \n",
      "DC                         ...                  11.0                8.0   \n",
      "DE                         ...                   8.0                8.0   \n",
      "FL                         ...                  32.0               60.0   \n",
      "GA                         ...                   3.0                3.0   \n",
      "HI                         ...                   1.0                1.0   \n",
      "IA                         ...                   2.0                5.0   \n",
      "ID                         ...                   2.0                3.0   \n",
      "IL                         ...                 112.0              102.0   \n",
      "IN                         ...                   8.0                6.0   \n",
      "KS                         ...                   3.0                3.0   \n",
      "KY                         ...                   2.0                2.0   \n",
      "LA                         ...                   0.0                3.0   \n",
      "MA                         ...                  48.0               40.0   \n",
      "MD                         ...                  14.0                6.0   \n",
      "MI                         ...                   3.0                5.0   \n",
      "MN                         ...                   2.0                3.0   \n",
      "MO                         ...                   3.0                9.0   \n",
      "Maryland                   ...                   1.0                1.0   \n",
      "NC                         ...                   9.0                6.0   \n",
      "NE                         ...                   1.0                1.0   \n",
      "NJ                         ...                  15.0               20.0   \n",
      "NM                         ...                   3.0                0.0   \n",
      "NY                         ...                  56.0               51.0   \n",
      "OH                         ...                  86.0               78.0   \n",
      "OR                         ...                   3.0                4.0   \n",
      "Ohio                       ...                   1.0                1.0   \n",
      "PA                         ...                 152.0              154.0   \n",
      "RI                         ...                   0.0                1.0   \n",
      "Remote                     ...                   3.0                2.0   \n",
      "SC                         ...                   0.0                0.0   \n",
      "SD                         ...                   1.0                0.0   \n",
      "Stevenage, United Kingdom  ...                   1.0                1.0   \n",
      "TN                         ...                  11.0               11.0   \n",
      "TX                         ...                 640.0              696.0   \n",
      "UT                         ...                   4.0                4.0   \n",
      "United States              ...                   2.0                1.0   \n",
      "VA                         ...                  49.0               34.0   \n",
      "WA                         ...                  10.0                6.0   \n",
      "WI                         ...                   2.0                3.0   \n",
      "\n",
      "                           state_total_DataB_x  state_total_Math_x  \\\n",
      "State                                                                \n",
      "AL                                         4.0                 5.0   \n",
      "AZ                                       141.0                79.0   \n",
      "Brentford, United Kingdom                  0.0                 0.0   \n",
      "CA                                       359.0               261.0   \n",
      "CO                                         3.0                 0.0   \n",
      "CT                                         2.0                 0.0   \n",
      "DC                                        12.0                11.0   \n",
      "DE                                         8.0                 3.0   \n",
      "FL                                        47.0                30.0   \n",
      "GA                                         0.0                 0.0   \n",
      "HI                                         1.0                 1.0   \n",
      "IA                                         3.0                 2.0   \n",
      "ID                                         2.0                 3.0   \n",
      "IL                                        97.0                52.0   \n",
      "IN                                         7.0                 1.0   \n",
      "KS                                         0.0                 0.0   \n",
      "KY                                         0.0                 2.0   \n",
      "LA                                         4.0                 1.0   \n",
      "MA                                        31.0                38.0   \n",
      "MD                                        21.0                16.0   \n",
      "MI                                         0.0                 3.0   \n",
      "MN                                         2.0                 1.0   \n",
      "MO                                         7.0                 6.0   \n",
      "Maryland                                   1.0                 1.0   \n",
      "NC                                         7.0                 2.0   \n",
      "NE                                         0.0                 1.0   \n",
      "NJ                                        14.0                 9.0   \n",
      "NM                                         3.0                 1.0   \n",
      "NY                                        35.0                42.0   \n",
      "OH                                        90.0                56.0   \n",
      "OR                                         3.0                 3.0   \n",
      "Ohio                                       1.0                 1.0   \n",
      "PA                                       148.0                78.0   \n",
      "RI                                         1.0                 1.0   \n",
      "Remote                                     3.0                 0.0   \n",
      "SC                                         0.0                 0.0   \n",
      "SD                                         0.0                 0.0   \n",
      "Stevenage, United Kingdom                  1.0                 0.0   \n",
      "TN                                        12.0                 7.0   \n",
      "TX                                       573.0               383.0   \n",
      "UT                                         3.0                 4.0   \n",
      "United States                              1.0                 2.0   \n",
      "VA                                        31.0                27.0   \n",
      "WA                                         5.0                15.0   \n",
      "WI                                         4.0                 7.0   \n",
      "\n",
      "                           jobs_per_state_y  state_ave_salary_y  \\\n",
      "State                                                             \n",
      "AL                                     10.0               62.50   \n",
      "AZ                                    307.0              100.00   \n",
      "Brentford, United Kingdom               2.0              132.75   \n",
      "CA                                    896.0              139.50   \n",
      "CO                                     11.0               99.00   \n",
      "CT                                      7.0               84.00   \n",
      "DC                                     20.0               98.50   \n",
      "DE                                     16.0               78.50   \n",
      "FL                                     94.0               77.50   \n",
      "GA                                      6.0               80.00   \n",
      "HI                                      1.0               98.50   \n",
      "IA                                      5.0               77.50   \n",
      "ID                                      3.0               63.50   \n",
      "IL                                    191.0               85.50   \n",
      "IN                                     11.0               90.50   \n",
      "KS                                      3.0               87.00   \n",
      "KY                                      6.0              103.50   \n",
      "LA                                      4.0               59.25   \n",
      "MA                                    119.0              107.50   \n",
      "MD                                     41.0               93.50   \n",
      "MI                                      7.0               96.00   \n",
      "MN                                      4.0               98.25   \n",
      "MO                                     10.0               73.25   \n",
      "Maryland                                1.0               90.50   \n",
      "NC                                     24.0               99.50   \n",
      "NE                                      5.0               52.50   \n",
      "NJ                                     31.0               96.50   \n",
      "NM                                      3.0               75.50   \n",
      "NY                                     86.0               97.25   \n",
      "OH                                    194.0               84.00   \n",
      "OR                                      4.0               98.00   \n",
      "Ohio                                    1.0              131.00   \n",
      "PA                                    362.0               82.50   \n",
      "RI                                      1.0              100.00   \n",
      "Remote                                  3.0               81.50   \n",
      "SC                                      1.0               60.50   \n",
      "SD                                      1.0               81.50   \n",
      "Stevenage, United Kingdom               2.0               66.50   \n",
      "TN                                     16.0               98.00   \n",
      "TX                                   1286.0               87.00   \n",
      "UT                                     10.0               97.00   \n",
      "United States                           4.0               94.50   \n",
      "VA                                     67.0               94.00   \n",
      "WA                                     23.0               80.50   \n",
      "WI                                     10.0               58.25   \n",
      "\n",
      "                           state_total_Python_y  state_total_Sql_y  \\\n",
      "State                                                                \n",
      "AL                                          4.0                2.0   \n",
      "AZ                                        146.0              173.0   \n",
      "Brentford, United Kingdom                   1.0                0.0   \n",
      "CA                                        490.0              407.0   \n",
      "CO                                          7.0                6.0   \n",
      "CT                                          1.0                2.0   \n",
      "DC                                         11.0                8.0   \n",
      "DE                                          8.0                8.0   \n",
      "FL                                         32.0               60.0   \n",
      "GA                                          3.0                3.0   \n",
      "HI                                          1.0                1.0   \n",
      "IA                                          2.0                5.0   \n",
      "ID                                          2.0                3.0   \n",
      "IL                                        112.0              102.0   \n",
      "IN                                          8.0                6.0   \n",
      "KS                                          3.0                3.0   \n",
      "KY                                          2.0                2.0   \n",
      "LA                                          0.0                3.0   \n",
      "MA                                         48.0               40.0   \n",
      "MD                                         14.0                6.0   \n",
      "MI                                          3.0                5.0   \n",
      "MN                                          2.0                3.0   \n",
      "MO                                          3.0                9.0   \n",
      "Maryland                                    1.0                1.0   \n",
      "NC                                          9.0                6.0   \n",
      "NE                                          1.0                1.0   \n",
      "NJ                                         15.0               20.0   \n",
      "NM                                          3.0                0.0   \n",
      "NY                                         56.0               51.0   \n",
      "OH                                         86.0               78.0   \n",
      "OR                                          3.0                4.0   \n",
      "Ohio                                        1.0                1.0   \n",
      "PA                                        152.0              154.0   \n",
      "RI                                          0.0                1.0   \n",
      "Remote                                      3.0                2.0   \n",
      "SC                                          0.0                0.0   \n",
      "SD                                          1.0                0.0   \n",
      "Stevenage, United Kingdom                   1.0                1.0   \n",
      "TN                                         11.0               11.0   \n",
      "TX                                        640.0              696.0   \n",
      "UT                                          4.0                4.0   \n",
      "United States                               2.0                1.0   \n",
      "VA                                         49.0               34.0   \n",
      "WA                                         10.0                6.0   \n",
      "WI                                          2.0                3.0   \n",
      "\n",
      "                           state_total_DataB_y  state_total_Math_y  \n",
      "State                                                               \n",
      "AL                                         4.0                 5.0  \n",
      "AZ                                       141.0                79.0  \n",
      "Brentford, United Kingdom                  0.0                 0.0  \n",
      "CA                                       359.0               261.0  \n",
      "CO                                         3.0                 0.0  \n",
      "CT                                         2.0                 0.0  \n",
      "DC                                        12.0                11.0  \n",
      "DE                                         8.0                 3.0  \n",
      "FL                                        47.0                30.0  \n",
      "GA                                         0.0                 0.0  \n",
      "HI                                         1.0                 1.0  \n",
      "IA                                         3.0                 2.0  \n",
      "ID                                         2.0                 3.0  \n",
      "IL                                        97.0                52.0  \n",
      "IN                                         7.0                 1.0  \n",
      "KS                                         0.0                 0.0  \n",
      "KY                                         0.0                 2.0  \n",
      "LA                                         4.0                 1.0  \n",
      "MA                                        31.0                38.0  \n",
      "MD                                        21.0                16.0  \n",
      "MI                                         0.0                 3.0  \n",
      "MN                                         2.0                 1.0  \n",
      "MO                                         7.0                 6.0  \n",
      "Maryland                                   1.0                 1.0  \n",
      "NC                                         7.0                 2.0  \n",
      "NE                                         0.0                 1.0  \n",
      "NJ                                        14.0                 9.0  \n",
      "NM                                         3.0                 1.0  \n",
      "NY                                        35.0                42.0  \n",
      "OH                                        90.0                56.0  \n",
      "OR                                         3.0                 3.0  \n",
      "Ohio                                       1.0                 1.0  \n",
      "PA                                       148.0                78.0  \n",
      "RI                                         1.0                 1.0  \n",
      "Remote                                     3.0                 0.0  \n",
      "SC                                         0.0                 0.0  \n",
      "SD                                         0.0                 0.0  \n",
      "Stevenage, United Kingdom                  1.0                 0.0  \n",
      "TN                                        12.0                 7.0  \n",
      "TX                                       573.0               383.0  \n",
      "UT                                         3.0                 4.0  \n",
      "United States                              1.0                 2.0  \n",
      "VA                                        31.0                27.0  \n",
      "WA                                         5.0                15.0  \n",
      "WI                                         4.0                 7.0  \n",
      "\n",
      "[45 rows x 27 columns]\n"
     ]
    }
   ],
   "source": [
    "print(job_dataS)"
   ]
  },
  {
   "cell_type": "code",
   "execution_count": 447,
   "metadata": {},
   "outputs": [],
   "source": [
    "job_dataS=job_dataS.reset_index()"
   ]
  },
  {
   "cell_type": "code",
   "execution_count": 448,
   "metadata": {},
   "outputs": [],
   "source": [
    "#State_FL = job_dataS[job_dataS.State == 'FL']\n",
    "State_FL = job_dataS[job_dataS['State'] == 'FL']"
   ]
  },
  {
   "cell_type": "code",
   "execution_count": 449,
   "metadata": {
    "scrolled": true
   },
   "outputs": [
    {
     "name": "stdout",
     "output_type": "stream",
     "text": [
      "  State    Rating  Ave_Salary  Founded_Years  Max_Company_Size  \\\n",
      "8    FL  3.461702   79.962766       26.12766       2814.468085   \n",
      "\n",
      "   Max_USD_Revenue  Python_knowledge  MatLab_knowledge  PowerBI_knowledge  \\\n",
      "8     1.281649e+09          0.340426          0.031915           0.117021   \n",
      "\n",
      "   SQL_knowledge  ...  state_total_Python_x  state_total_Sql_x  \\\n",
      "8       0.638298  ...                  32.0               60.0   \n",
      "\n",
      "   state_total_DataB_x  state_total_Math_x  jobs_per_state_y  \\\n",
      "8                 47.0                30.0              94.0   \n",
      "\n",
      "   state_ave_salary_y  state_total_Python_y  state_total_Sql_y  \\\n",
      "8                77.5                  32.0               60.0   \n",
      "\n",
      "   state_total_DataB_y  state_total_Math_y  \n",
      "8                 47.0                30.0  \n",
      "\n",
      "[1 rows x 28 columns]\n"
     ]
    }
   ],
   "source": [
    "print(State_FL)"
   ]
  },
  {
   "cell_type": "markdown",
   "metadata": {},
   "source": [
    "## 5.6 Refit Model On All Available Data (excluding Fl State)<a id='5.6_Refit_Model_On_All_Available_Data_(excluding_Fl_State)'></a>"
   ]
  },
  {
   "cell_type": "markdown",
   "metadata": {},
   "source": [
    "This next step requires some careful thought. We want to refit the model using all available data. But should we include \n",
    "Florida Sate Jobs? On the one hand, we are not trying to estimate model performance on a previously unseen data sample, \n",
    "so theoretically including Florida State data should be fine. One might first think that including Florida State  in the model \n",
    "training would, if anything, improve model performance in predicting Florida State's average salary. But here's where our\n",
    "business context comes in. The motivation for this entire project is based on the sense that Florida State needs to adjust \n",
    "its salary. One way to phrase this problem: we want to train a model to predict Florida State's average salary based on data \n",
    "from all the other  States! We don't want Florida State's current salary to bias this. We want to calculate a salary based \n",
    "only on others states."
   ]
  },
  {
   "cell_type": "code",
   "execution_count": 450,
   "metadata": {},
   "outputs": [],
   "source": [
    "#X = job_dataS.loc[job_dataS.State != \"FL\", model.X_columns]\n",
    "#y = job_dataS.loc[job_dataS.State != \"FL\", 'Ave_Salary']\n",
    "\n",
    "X = job_dataS.loc[job_dataS['State'] != \"FL\", model.X_columns]\n",
    "y = job_dataS.loc[job_dataS['State'] != \"FL\", 'Ave_Salary']"
   ]
  },
  {
   "cell_type": "code",
   "execution_count": 451,
   "metadata": {},
   "outputs": [
    {
     "data": {
      "text/plain": [
       "(44, 44)"
      ]
     },
     "execution_count": 451,
     "metadata": {},
     "output_type": "execute_result"
    }
   ],
   "source": [
    "len(X), len(y)"
   ]
  },
  {
   "cell_type": "code",
   "execution_count": 452,
   "metadata": {},
   "outputs": [
    {
     "data": {
      "text/plain": [
       "Pipeline(steps=[('simpleimputer', SimpleImputer()),\n",
       "                ('standardscaler', StandardScaler()),\n",
       "                ('randomforestregressor',\n",
       "                 RandomForestRegressor(n_estimators=1000, random_state=47))])"
      ]
     },
     "execution_count": 452,
     "metadata": {},
     "output_type": "execute_result"
    }
   ],
   "source": [
    "model.fit(X, y)"
   ]
  },
  {
   "cell_type": "code",
   "execution_count": 453,
   "metadata": {},
   "outputs": [],
   "source": [
    "cv_results = cross_validate(model, X, y, scoring='neg_mean_absolute_error', cv=5, n_jobs=-1)"
   ]
  },
  {
   "cell_type": "code",
   "execution_count": 454,
   "metadata": {},
   "outputs": [
    {
     "data": {
      "text/plain": [
       "array([-12.69163266,  -6.1304093 ,  -5.74509583,  -3.67779505,\n",
       "        -4.40437639])"
      ]
     },
     "execution_count": 454,
     "metadata": {},
     "output_type": "execute_result"
    }
   ],
   "source": [
    "cv_results['test_score']"
   ]
  },
  {
   "cell_type": "code",
   "execution_count": 455,
   "metadata": {},
   "outputs": [
    {
     "data": {
      "text/plain": [
       "(6.529861843381991, 3.206082128900958)"
      ]
     },
     "execution_count": 455,
     "metadata": {},
     "output_type": "execute_result"
    }
   ],
   "source": [
    "mae_mean, mae_std = np.mean(-1 * cv_results['test_score']), np.std(-1 * cv_results['test_score'])\n",
    "mae_mean, mae_std"
   ]
  },
  {
   "cell_type": "markdown",
   "metadata": {},
   "source": [
    "These numbers will inevitably be different to those in the previous step that used a different training data set. They should, however, be consistent. It's important to appreciate that estimates of model performance are subject to the noise and uncertainty of data!"
   ]
  },
  {
   "cell_type": "markdown",
   "metadata": {},
   "source": [
    "## 5.7 Calculate FL Average Salary From The Model<a id='5.7_Calculate_Expected_Big_Mountain_Ticket_Price_From_The_Model'></a>"
   ]
  },
  {
   "cell_type": "code",
   "execution_count": 456,
   "metadata": {},
   "outputs": [],
   "source": [
    "#X_bm = job_data.loc[job_data.State == \"FL\", model.X_columns]\n",
    "#y_bm = job_data.loc[job_data.State == \"FL\", 'Ave_Salary']\n",
    "\n",
    "\n",
    "X_bm = job_dataS.loc[job_dataS['State'] == \"FL\", model.X_columns]\n",
    "y_bm = job_dataS.loc[job_dataS['State'] == \"FL\", 'Ave_Salary']"
   ]
  },
  {
   "cell_type": "code",
   "execution_count": 457,
   "metadata": {},
   "outputs": [
    {
     "name": "stdout",
     "output_type": "stream",
     "text": [
      "8    79.962766\n",
      "Name: Ave_Salary, dtype: float64\n"
     ]
    }
   ],
   "source": [
    "print(y_bm)"
   ]
  },
  {
   "cell_type": "code",
   "execution_count": 458,
   "metadata": {},
   "outputs": [],
   "source": [
    "bm_pred = model.predict(X_bm).item()"
   ]
  },
  {
   "cell_type": "code",
   "execution_count": 459,
   "metadata": {},
   "outputs": [],
   "source": [
    "y_bm = y_bm.values.item()"
   ]
  },
  {
   "cell_type": "code",
   "execution_count": 460,
   "metadata": {},
   "outputs": [
    {
     "name": "stdout",
     "output_type": "stream",
     "text": [
      "FL Ave_Salary  is $82.81 K, actual Salary is $79.96. K\n",
      "Even with the expected mean absolute error of $6.53 K, this suggests there is posibility for an increase a litle be  a Salary.\n"
     ]
    }
   ],
   "source": [
    "print(f'FL Ave_Salary  is ${bm_pred:.2f} K, actual Salary is ${y_bm:.2f}. K')\n",
    "print(f'Even with the expected mean absolute error of ${mae_mean:.2f} K, this suggests there is posibility for an increase a litle be  a Salary.')"
   ]
  },
  {
   "cell_type": "markdown",
   "metadata": {},
   "source": [
    "This result should be viewed with optimism and doubt! The validity of our model lies in the assumption that other Jobs in\n",
    "other states accurately set your salary based on what the market supports . But if ours is paying badly, others? It is \n",
    "reasonable to expect that some salaries are \"exaggerated\" and some \"sub-salary\". Or if the jobs in other states are pretty\n",
    "good in terms of salary strategies, it could be that our model is simply missing some clue. data?"
   ]
  },
  {
   "cell_type": "markdown",
   "metadata": {},
   "source": [
    "## 5.8 Florida jobs In Market Context<a id='5.8_Big_Mountain_Resort_In_Market_Context'></a>"
   ]
  },
  {
   "cell_type": "markdown",
   "metadata": {},
   "source": [
    "Features that came up as important in the modeling (not just our final, random forest model) included:\n",
    "* Founded_Years\n",
    "* Rating\n",
    "* Highest_USD_Revenue\n",
    "* Max_Company_Size\n",
    "* Python_knowledge\n",
    "* DataB_knowledge\n",
    "* SQL_knowledge\n",
    "* Math_knowledge"
   ]
  },
  {
   "cell_type": "markdown",
   "metadata": {},
   "source": [
    "It's often useful to define custom functions for visualizing data in meaningful ways. The function below takes a feature \n",
    "name as an input and plots a histogram of the values of that feature. It then marks where Florida State sits in the distribution\n",
    "by marking Florida State value with a vertical line using `matplotlib`'s \n",
    "[axvline](https://matplotlib.org/3.1.1/api/_as_gen/matplotlib.pyplot.axvline.html) function. It also performs a little \n",
    "cleaning up of missing values and adds descriptive labels and a title."
   ]
  },
  {
   "cell_type": "code",
   "execution_count": 461,
   "metadata": {},
   "outputs": [],
   "source": [
    "#Code task 1#\n",
    "#Add code to the `plot_compare` function that displays a vertical, dashed line\n",
    "#on the histogram to indicate Florida State position in the distribution\n",
    "#Hint: plt.axvline() plots a vertical line, its position for 'feature1'\n",
    "#would be `State_FL['feature1'].values, we'd like a red line, which can be\n",
    "#specified with c='r', a dashed linestyle is produced by ls='--',\n",
    "#and it's nice to give it a slightly reduced alpha value, such as 0.8.\n",
    "#Don't forget to give it a useful label (e.g. 'Fl State') so it's listed\n",
    "#in the legend.\n",
    "def plot_compare(feat_name, description, state=None, figsize=(10, 5)):\n",
    "    \"\"\"Graphically compare distributions of features.\n",
    "    \n",
    "    Plot histogram of values for all states and reference line to mark\n",
    "    Fl State's position.\n",
    "    \n",
    "    Arguments:\n",
    "    feat_name - the feature column name in the data\n",
    "    description - text description of the feature\n",
    "    state - select a specific state (None for all states)\n",
    "    figsize - (optional) figure size\n",
    "    \"\"\"\n",
    "    \n",
    "    plt.subplots(figsize=figsize)\n",
    "    # quirk that hist sometimes objects to NaNs, sometimes doesn't\n",
    "    # filtering only for finite values tidies this up\n",
    "    if state is None:\n",
    "        ski_x = job_dataS[feat_name]\n",
    "    else:\n",
    "        ski_x = job_dataS.loc[job_dataS['state'] == state, feat_name]\n",
    "    ski_x = ski_x[np.isfinite(ski_x)]\n",
    "    plt.hist(ski_x, bins=30)\n",
    "    plt.axvline(x=State_FL[feat_name].values, c='r', ls='--', alpha=0.8, label='FL')\n",
    "    plt.xlabel(description)\n",
    "    plt.ylabel('frequency')\n",
    "    plt.title(description + ' distribution for jobs in market share')\n",
    "    plt.legend()"
   ]
  },
  {
   "cell_type": "markdown",
   "metadata": {},
   "source": [
    "### 5.8.1 Average Salary<a id='5.8.1_Ticket_price'></a>"
   ]
  },
  {
   "cell_type": "markdown",
   "metadata": {},
   "source": [
    "Look at where Florida amongst all States for Salary"
   ]
  },
  {
   "cell_type": "code",
   "execution_count": 462,
   "metadata": {},
   "outputs": [
    {
     "data": {
      "image/png": "[encoded data removed]",
      "text/plain": [
       "<Figure size 720x360 with 1 Axes>"
      ]
     },
     "metadata": {
      "needs_background": "light"
     },
     "output_type": "display_data"
    }
   ],
   "source": [
    "plot_compare('Ave_Salary', 'Average Salary ($)')"
   ]
  },
  {
   "cell_type": "markdown",
   "metadata": {},
   "source": [
    "### 5.8.2 Founded Years<a id='5.8.2_Vertical_drop'></a>"
   ]
  },
  {
   "cell_type": "code",
   "execution_count": 463,
   "metadata": {},
   "outputs": [
    {
     "data": {
      "image/png": "[encoded data removed]",
      "text/plain": [
       "<Figure size 720x360 with 1 Axes>"
      ]
     },
     "metadata": {
      "needs_background": "light"
     },
     "output_type": "display_data"
    }
   ],
   "source": [
    "plot_compare('Founded_Years', 'Founded Years (years)')"
   ]
  },
  {
   "cell_type": "markdown",
   "metadata": {},
   "source": [
    "### 5.8.3 Rating<a id='5.8.3_Snow_making_area'></a>"
   ]
  },
  {
   "cell_type": "code",
   "execution_count": 464,
   "metadata": {},
   "outputs": [
    {
     "data": {
      "image/png": "[encoded data removed]",
      "text/plain": [
       "<Figure size 720x360 with 1 Axes>"
      ]
     },
     "metadata": {
      "needs_background": "light"
     },
     "output_type": "display_data"
    }
   ],
   "source": [
    "plot_compare('Rating', 'Rating max 5')"
   ]
  },
  {
   "cell_type": "markdown",
   "metadata": {},
   "source": [
    "### 5.8.4 The Highest Revenue posibble for a Company<a id='5.8.4_Total_number_of_chairs'></a>"
   ]
  },
  {
   "cell_type": "code",
   "execution_count": 465,
   "metadata": {},
   "outputs": [
    {
     "data": {
      "image/png": "[encoded data removed]",
      "text/plain": [
       "<Figure size 720x360 with 1 Axes>"
      ]
     },
     "metadata": {
      "needs_background": "light"
     },
     "output_type": "display_data"
    }
   ],
   "source": [
    "plot_compare('Max_USD_Revenue', 'The Highest Revenue posibble for a Company')"
   ]
  },
  {
   "cell_type": "markdown",
   "metadata": {},
   "source": [
    "### 5.8.5 Maximun possible Company Size<a id='5.8.5_Fast_quads'></a>"
   ]
  },
  {
   "cell_type": "code",
   "execution_count": 466,
   "metadata": {},
   "outputs": [
    {
     "data": {
      "image/png": "[encoded data removed]",
      "text/plain": [
       "<Figure size 720x360 with 1 Axes>"
      ]
     },
     "metadata": {
      "needs_background": "light"
     },
     "output_type": "display_data"
    }
   ],
   "source": [
    "plot_compare('Max_Company_Size', 'Maximun possible Company Size')"
   ]
  },
  {
   "cell_type": "markdown",
   "metadata": {},
   "source": [
    "### 5.8.6 Python knowledge<a id='5.8.6_Runs'></a>"
   ]
  },
  {
   "cell_type": "code",
   "execution_count": 467,
   "metadata": {},
   "outputs": [
    {
     "data": {
      "image/png": "[encoded data removed]",
      "text/plain": [
       "<Figure size 720x360 with 1 Axes>"
      ]
     },
     "metadata": {
      "needs_background": "light"
     },
     "output_type": "display_data"
    }
   ],
   "source": [
    "plot_compare('Python_knowledge', 'Python knowledge')"
   ]
  },
  {
   "cell_type": "markdown",
   "metadata": {},
   "source": [
    "### 5.8.7 DataBase knowledge<a id='5.8.7_Longest_run'></a>"
   ]
  },
  {
   "cell_type": "code",
   "execution_count": 468,
   "metadata": {},
   "outputs": [
    {
     "data": {
      "image/png": "[encoded data removed]",
      "text/plain": [
       "<Figure size 720x360 with 1 Axes>"
      ]
     },
     "metadata": {
      "needs_background": "light"
     },
     "output_type": "display_data"
    }
   ],
   "source": [
    "plot_compare('DataB_knowledge', 'DataBase knowledge')"
   ]
  },
  {
   "cell_type": "markdown",
   "metadata": {},
   "source": [
    "### 5.8.8 SQL knowledge<a id='5.8.8_Trams'></a>"
   ]
  },
  {
   "cell_type": "code",
   "execution_count": 469,
   "metadata": {},
   "outputs": [
    {
     "data": {
      "image/png": "[encoded data removed]",
      "text/plain": [
       "<Figure size 720x360 with 1 Axes>"
      ]
     },
     "metadata": {
      "needs_background": "light"
     },
     "output_type": "display_data"
    }
   ],
   "source": [
    "plot_compare('SQL_knowledge', 'SQL knowledge')"
   ]
  },
  {
   "cell_type": "markdown",
   "metadata": {},
   "source": [
    "### 5.8.9 Math knowledge<a id='5.8.9_Skiable_terrain_area'></a>"
   ]
  },
  {
   "cell_type": "code",
   "execution_count": 470,
   "metadata": {},
   "outputs": [
    {
     "data": {
      "image/png": "[encoded data removed]",
      "text/plain": [
       "<Figure size 720x360 with 1 Axes>"
      ]
     },
     "metadata": {
      "needs_background": "light"
     },
     "output_type": "display_data"
    }
   ],
   "source": [
    "plot_compare('Math_knowledge', 'Math knowledge')"
   ]
  },
  {
   "cell_type": "markdown",
   "metadata": {},
   "source": [
    "## 5.9 Modeling scenarios<a id='5.9_Modeling_scenarios'></a>"
   ]
  },
  {
   "cell_type": "markdown",
   "metadata": {},
   "source": [
    "Florida Job Market has been reviewing potential scenarios for (starting from average salaries). the average salary is not \n",
    "determined by\n",
    "any set of parameters; the company is free to set the salary it wants. However, the state operates within a market where\n",
    "people pay more for certain skills and less for others. Being able to see how skills support a given average salary is valuable\n",
    "business intelligence. This is where the usefulness of our model comes into play.\n",
    "The expected number of jobs increases during the season is 500 on average."
   ]
  },
  {
   "cell_type": "code",
   "execution_count": 471,
   "metadata": {},
   "outputs": [],
   "source": [
    "expected_jobs = 100"
   ]
  },
  {
   "cell_type": "code",
   "execution_count": 472,
   "metadata": {},
   "outputs": [
    {
     "data": {
      "text/html": [
       "<div>\n",
       "<style scoped>\n",
       "    .dataframe tbody tr th:only-of-type {\n",
       "        vertical-align: middle;\n",
       "    }\n",
       "\n",
       "    .dataframe tbody tr th {\n",
       "        vertical-align: top;\n",
       "    }\n",
       "\n",
       "    .dataframe thead th {\n",
       "        text-align: right;\n",
       "    }\n",
       "</style>\n",
       "<table border=\"1\" class=\"dataframe\">\n",
       "  <thead>\n",
       "    <tr style=\"text-align: right;\">\n",
       "      <th></th>\n",
       "      <th>State</th>\n",
       "      <th>Founded_Years</th>\n",
       "      <th>Rating</th>\n",
       "      <th>Max_USD_Revenue</th>\n",
       "      <th>Max_Company_Size</th>\n",
       "      <th>Python_knowledge</th>\n",
       "      <th>DataB_knowledge</th>\n",
       "      <th>SQL_knowledge</th>\n",
       "      <th>Math_knowledge</th>\n",
       "      <th>ETL_knowledge</th>\n",
       "    </tr>\n",
       "  </thead>\n",
       "  <tbody>\n",
       "    <tr>\n",
       "      <th>8</th>\n",
       "      <td>FL</td>\n",
       "      <td>26.12766</td>\n",
       "      <td>3.461702</td>\n",
       "      <td>1.281649e+09</td>\n",
       "      <td>2814.468085</td>\n",
       "      <td>0.340426</td>\n",
       "      <td>0.5</td>\n",
       "      <td>0.638298</td>\n",
       "      <td>0.319149</td>\n",
       "      <td>0.234043</td>\n",
       "    </tr>\n",
       "  </tbody>\n",
       "</table>\n",
       "</div>"
      ],
      "text/plain": [
       "  State  Founded_Years    Rating  Max_USD_Revenue  Max_Company_Size  \\\n",
       "8    FL       26.12766  3.461702     1.281649e+09       2814.468085   \n",
       "\n",
       "   Python_knowledge  DataB_knowledge  SQL_knowledge  Math_knowledge  \\\n",
       "8          0.340426              0.5       0.638298        0.319149   \n",
       "\n",
       "   ETL_knowledge  \n",
       "8       0.234043  "
      ]
     },
     "execution_count": 472,
     "metadata": {},
     "output_type": "execute_result"
    }
   ],
   "source": [
    "all_feats = ['State','Founded_Years','Rating','Max_USD_Revenue','Max_Company_Size','Python_knowledge','DataB_knowledge',\n",
    "             'SQL_knowledge','Math_knowledge','ETL_knowledge']\n",
    "State_FL[all_feats]"
   ]
  },
  {
   "cell_type": "code",
   "execution_count": 473,
   "metadata": {},
   "outputs": [],
   "source": [
    "#Code task 2#\n",
    "#In this function, copy the Florida State data into a new data frame\n",
    "#(Note we use .copy()!)\n",
    "#And then for each feature, and each of its deltas (changes from the original),\n",
    "#create the modified scenario dataframe (bm2) and make a average salary prediction\n",
    "#for it. The difference between the scenario's prediction and the current\n",
    "#prediction is then calculated and returned.\n",
    "#Complete the code to increment each feature by the associated delta\n",
    "def predict_increase(features, deltas):\n",
    "    \"\"\"Increase in modelled average salary by applying delta to feature.\n",
    "    \n",
    "    Arguments:\n",
    "    features - list, names of the features in the job_data dataframe to change\n",
    "    deltas - list, the amounts by which to increase the values of the features\n",
    "    \n",
    "    Outputs:\n",
    "    Amount of increase in the predicted average salary\n",
    "    \"\"\"\n",
    "    \n",
    "    bm2 = X_bm.copy()\n",
    "    for f, d in zip(features, deltas):\n",
    "        bm2[f] += d\n",
    "    return model.predict(bm2).item() - model.predict(X_bm).item()"
   ]
  },
  {
   "cell_type": "markdown",
   "metadata": {},
   "source": [
    "### 5.9.1 Scenario 1<a id='5.9.1_Scenario_1'></a>"
   ]
  },
  {
   "cell_type": "markdown",
   "metadata": {},
   "source": [
    " The number of Python_knowledge is the only parameter varying."
   ]
  },
  {
   "cell_type": "code",
   "execution_count": 474,
   "metadata": {},
   "outputs": [
    {
     "data": {
      "text/plain": [
       "[-1, -2, -3, -4, -5, -6, -7, -8, -9, -10]"
      ]
     },
     "execution_count": 474,
     "metadata": {},
     "output_type": "execute_result"
    }
   ],
   "source": [
    "[i for i in range(-1, -11, -1)]"
   ]
  },
  {
   "cell_type": "code",
   "execution_count": 475,
   "metadata": {},
   "outputs": [],
   "source": [
    "py_delta = [i for i in range(-1, -11, -1)]\n",
    "salary_deltas = [predict_increase(['Python_knowledge'], [delta]) for delta in py_delta]"
   ]
  },
  {
   "cell_type": "code",
   "execution_count": 476,
   "metadata": {},
   "outputs": [
    {
     "data": {
      "text/plain": [
       "[-0.6733227838752214,\n",
       " -0.6733227838752214,\n",
       " -0.6733227838752214,\n",
       " -0.6733227838752214,\n",
       " -0.6733227838752214,\n",
       " -0.6733227838752214,\n",
       " -0.6733227838752214,\n",
       " -0.6733227838752214,\n",
       " -0.6733227838752214,\n",
       " -0.6733227838752214]"
      ]
     },
     "execution_count": 476,
     "metadata": {},
     "output_type": "execute_result"
    }
   ],
   "source": [
    "salary_deltas"
   ]
  },
  {
   "cell_type": "markdown",
   "metadata": {},
   "source": [
    "### 5.9.2 Scenario 2<a id='5.9.2_Scenario_2'></a>"
   ]
  },
  {
   "cell_type": "code",
   "execution_count": 477,
   "metadata": {},
   "outputs": [],
   "source": [
    "#Code task 4#\n",
    "\n",
    "salary2_increase = predict_increase(['Python_knowledge', 'DataB_knowledge', 'SQL_knowledge'], [80, 50,40 ])\n",
    "revenue2_increase = expected_jobs * salary2_increase"
   ]
  },
  {
   "cell_type": "code",
   "execution_count": 478,
   "metadata": {},
   "outputs": [
    {
     "name": "stdout",
     "output_type": "stream",
     "text": [
      "This scenario increases support for Average Salary by $0.13\n",
      "Over the season, this could be expected to pay to $13K\n"
     ]
    }
   ],
   "source": [
    "print(f'This scenario increases support for Average Salary by ${salary2_increase:.2f}')\n",
    "print(f'Over the season, this could be expected to pay to ${revenue2_increase:.0f}K')"
   ]
  },
  {
   "cell_type": "code",
   "execution_count": 479,
   "metadata": {},
   "outputs": [],
   "source": [
    "#Code task 4.1#\n",
    "\n",
    "salary2_increase = predict_increase(['SQL_knowledge'], [1])\n",
    "revenue2_increase = expected_jobs * salary2_increase"
   ]
  },
  {
   "cell_type": "code",
   "execution_count": 480,
   "metadata": {},
   "outputs": [
    {
     "name": "stdout",
     "output_type": "stream",
     "text": [
      "This scenario increases support for ticket price by $0.01\n",
      "Over the season, this could be expected to pay to $1K\n"
     ]
    }
   ],
   "source": [
    "print(f'This scenario increases support for Average Salary by ${salary2_increase:.2f}')\n",
    "print(f'Over the season, this could be expected to pay to ${revenue2_increase:.0f}K')"
   ]
  },
  {
   "cell_type": "markdown",
   "metadata": {},
   "source": [
    "### 5.9.3 Scenario 3<a id='5.9.3_Scenario_3'></a>"
   ]
  },
  {
   "cell_type": "markdown",
   "metadata": {},
   "source": [
    "In this scenario, you are repeating the previous one but adding 2 acres of snow making."
   ]
  },
  {
   "cell_type": "code",
   "execution_count": 481,
   "metadata": {},
   "outputs": [],
   "source": [
    "#Code task 5#\n",
    "\n",
    "salary3_increase = predict_increase(['Python_knowledge', 'DataB_knowledge', 'SQL_knowledge', 'Math_knowledge'], [80, 50, 40,30 ])\n",
    "revenue3_increase =expected_jobs * salary3_increase"
   ]
  },
  {
   "cell_type": "code",
   "execution_count": 482,
   "metadata": {},
   "outputs": [
    {
     "name": "stdout",
     "output_type": "stream",
     "text": [
      "This scenario increases support for average salary by $0.31\n",
      "Over the season, this could be expected to pay to $31K\n"
     ]
    }
   ],
   "source": [
    "print(f'This scenario increases support for Average Salary by ${salary3_increase:.2f}')\n",
    "print(f'Over the season, this could be expected to pay to ${revenue3_increase:.0f}K')"
   ]
  },
  {
   "cell_type": "markdown",
   "metadata": {},
   "source": [
    "Such a small increase in the snow making area makes no difference!"
   ]
  },
  {
   "cell_type": "markdown",
   "metadata": {},
   "source": [
    "### 5.9.4 Scenario 4<a id='5.9.4_Scenario_4'></a>"
   ]
  },
  {
   "cell_type": "markdown",
   "metadata": {},
   "source": [
    "This scenario calls for increasing the longest run by .2 miles and guaranteeing its snow coverage by adding 4 acres of snow making capability."
   ]
  },
  {
   "cell_type": "code",
   "execution_count": 483,
   "metadata": {},
   "outputs": [
    {
     "data": {
      "text/plain": [
       "-0.28828114047065867"
      ]
     },
     "execution_count": 483,
     "metadata": {},
     "output_type": "execute_result"
    }
   ],
   "source": [
    "#Code task 6#\n",
    "#Predict the increase from adding ETl knowledge 500 and Math knowledge 300\n",
    "predict_increase(['ETL_knowledge', 'Math_knowledge'], [30, 30])"
   ]
  },
  {
   "cell_type": "markdown",
   "metadata": {},
   "source": [
    "## 5.10 Summary<a id='5.10_Summary'></a>"
   ]
  },
  {
   "cell_type": "markdown",
   "metadata": {},
   "source": [
    "**Q: 1** Write a summary of the results of modeling these scenarios. Start by starting the current position; how much does \n",
    "    Average Salary currently change? What does your modelling suggest for a Average Salary increase that could be in the \n",
    "    marketplace by FL State? How would you approach suggesting such a change to the business leadership?\n",
    "    For future improvements, state which, if any, of the modeled \n",
    "    scenarios you'd recommend for further consideration. Suggest how the business might test, and progress, with any run \n",
    "    closures."
   ]
  },
  {
   "cell_type": "markdown",
   "metadata": {},
   "source": [
    "**A: 1** Your answer here"
   ]
  },
  {
   "cell_type": "markdown",
   "metadata": {},
   "source": [
    "Fl State currently have Salary of 80K dollars per job. \n",
    "A modelling suggest increase until(93K) supported in the marketplace by FL State. when the number of jobs increases to 100,  \n",
    "Python_knowledge= 80\n",
    "DataB_knowledge= 50 \n",
    "SQL_knowledge= 40\n",
    "\n",
    "Base on the different skills \n",
    "A modelling suggest increase until(111K) supported in the marketplace by FL State. when the number of jobs increases to 100, \n",
    "Python_knowledge= 80  \n",
    "DataB_knowledge= 50\n",
    "SQL_knowledge= 40\n",
    "Math_knowledge= 30\n",
    "\n",
    "For future improvements, state which, if any, of the modeled scenarios youd recommend for further consideration. "
   ]
  },
  {
   "cell_type": "markdown",
   "metadata": {},
   "source": [
    "## 5.11 Further work<a id='5.11_Further_work'></a>"
   ]
  },
  {
   "cell_type": "markdown",
   "metadata": {},
   "source": [
    "Q: 2 Highlight any deficiencies in the data that hampered or limited this work. \n",
    "\n",
    "The only salary data in our dataset were average salary. \n",
    "we can check minimum and maximum salary as well\n",
    "\n",
    "FLorida State was already low on some of the charts of jobs salaries offered\n",
    "\n",
    "Assuming the business leaders felt this model was useful, how would the business make use of it? \n",
    "They can use it  to do marketing related with the Florida Sate Jobs "
   ]
  }
 ],
 "metadata": {
  "kernelspec": {
   "display_name": "Python 3",
   "language": "python",
   "name": "python3"
  },
  "language_info": {
   "codemirror_mode": {
    "name": "ipython",
    "version": 3
   },
   "file_extension": ".py",
   "mimetype": "text/x-python",
   "name": "python",
   "nbconvert_exporter": "python",
   "pygments_lexer": "ipython3",
   "version": "3.8.5"
  },
  "toc": {
   "base_numbering": 1,
   "nav_menu": {},
   "number_sections": true,
   "sideBar": true,
   "skip_h1_title": false,
   "title_cell": "Table of Contents",
   "title_sidebar": "Contents",
   "toc_cell": false,
   "toc_position": {},
   "toc_section_display": true,
   "toc_window_display": true
  },
  "varInspector": {
   "cols": {
    "lenName": 16,
    "lenType": 16,
    "lenVar": 40
   },
   "kernels_config": {
    "python": {
     "delete_cmd_postfix": "",
     "delete_cmd_prefix": "del ",
     "library": "var_list.py",
     "varRefreshCmd": "print(var_dic_list())"
    },
    "r": {
     "delete_cmd_postfix": ") ",
     "delete_cmd_prefix": "rm(",
     "library": "var_list.r",
     "varRefreshCmd": "cat(var_dic_list()) "
    }
   },
   "types_to_exclude": [
    "module",
    "function",
    "builtin_function_or_method",
    "instance",
    "_Feature"
   ],
   "window_display": false
  }
 },
 "nbformat": 4,
 "nbformat_minor": 4
}
